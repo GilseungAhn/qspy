{
 "cells": [
  {
   "cell_type": "markdown",
   "id": "61858dcb",
   "metadata": {},
   "source": [
    "## 개요\n",
    "- 데이터: 2016년 1월 1일 ~ 2021년 1월 1일의 전종목 데이터\n",
    "- 검증 내용: (1) 요일별 등락률 분포 (2) 월요일에 매수해서 금요일에 매도하는 전략의 수익률"
   ]
  },
  {
   "cell_type": "code",
   "execution_count": 1,
   "id": "53403e53",
   "metadata": {},
   "outputs": [],
   "source": [
    "# 필요 모듈 불러오기\n",
    "from qspy import datasets\n",
    "from qspy.analysis import calendar_effect\n",
    "from qspy.validation import ror_buy_and_sell, ror_buy_and_hold\n",
    "import pandas as pd\n",
    "import numpy as np\n",
    "from matplotlib import pyplot as plt"
   ]
  },
  {
   "cell_type": "markdown",
   "id": "1281e34e",
   "metadata": {},
   "source": [
    "## 데이터 준비 "
   ]
  },
  {
   "cell_type": "code",
   "execution_count": 2,
   "id": "d36f4021",
   "metadata": {},
   "outputs": [],
   "source": [
    "# 2016년 1월 1일 이전 코스피 혹은 코스닥에 상장된 모든 종목 정보를 stock_list에 저장\n",
    "stock_list = datasets.load_stock_list(market = \"all\")\n",
    "stock_list = stock_list.loc[stock_list['ListingDate'] < pd.to_datetime(\"2016-01-01\")]"
   ]
  },
  {
   "cell_type": "code",
   "execution_count": 3,
   "id": "76ca2548",
   "metadata": {},
   "outputs": [],
   "source": [
    "# stock_list의 Symbol 컬럼을 기준으로 2018년 1월 1일부터 2021년 1월 1일까지의 데이터 불러오기\n",
    "data_list = datasets.load_stock_data_list(stock_list[\"Symbol\"],\n",
    "                                          start_date = \"2016-01-01\",\n",
    "                                          end_date = \"2021-01-01\",\n",
    "                                          download = False)"
   ]
  },
  {
   "cell_type": "code",
   "execution_count": 4,
   "id": "35fc5ae4",
   "metadata": {},
   "outputs": [],
   "source": [
    "# 저가가 0인 문제가 있는 레코드 제거\n",
    "data_list = [data.loc[data['Low'] != 0].reset_index(drop = True) for data in data_list]"
   ]
  },
  {
   "cell_type": "markdown",
   "id": "e27883c9",
   "metadata": {},
   "source": [
    "## 요일별 등락률 분포 확인"
   ]
  },
  {
   "cell_type": "code",
   "execution_count": 5,
   "id": "7f05b4b0",
   "metadata": {},
   "outputs": [],
   "source": [
    "# 요일별 등락률을 담을 리스트 초기화 \n",
    "change_list = [[], [], [], [], []]"
   ]
  },
  {
   "cell_type": "code",
   "execution_count": 6,
   "id": "d3d34e91",
   "metadata": {},
   "outputs": [],
   "source": [
    "# Date의 weekday를 바탕으로 change_list에 저장\n",
    "for data in data_list:\n",
    "    data[\"요일\"] = data[\"Date\"].dt.weekday # dt.weekday: 날짜 자료형의 요일을 반환\n",
    "    for i in range(5):\n",
    "        change_list[i] += data.loc[data[\"요일\"] == i, \"Change\"].dropna().tolist()"
   ]
  },
  {
   "cell_type": "code",
   "execution_count": 7,
   "id": "be15753d",
   "metadata": {},
   "outputs": [
    {
     "data": {
      "image/png": "[encoded data removed]",
      "text/plain": [
       "<Figure size 720x432 with 1 Axes>"
      ]
     },
     "metadata": {
      "needs_background": "light"
     },
     "output_type": "display_data"
    }
   ],
   "source": [
    "# 박스플롯으로 시각화해서 비교\n",
    "plt.figure(figsize = (10, 6))\n",
    "plt.boxplot(change_list)\n",
    "plt.xticks(range(1, 6), [\"Mon\", \"Tue\", \"Wed\", \"Thu\", \"Fri\"])\n",
    "plt.ylim(-0.05, 0.05)\n",
    "plt.show()"
   ]
  },
  {
   "cell_type": "code",
   "execution_count": 8,
   "id": "f389bcfa",
   "metadata": {},
   "outputs": [
    {
     "data": {
      "text/html": [
       "<div>\n",
       "<style scoped>\n",
       "    .dataframe tbody tr th:only-of-type {\n",
       "        vertical-align: middle;\n",
       "    }\n",
       "\n",
       "    .dataframe tbody tr th {\n",
       "        vertical-align: top;\n",
       "    }\n",
       "\n",
       "    .dataframe thead th {\n",
       "        text-align: right;\n",
       "    }\n",
       "</style>\n",
       "<table border=\"1\" class=\"dataframe\">\n",
       "  <thead>\n",
       "    <tr style=\"text-align: right;\">\n",
       "      <th></th>\n",
       "      <th>Mon</th>\n",
       "      <th>Tue</th>\n",
       "      <th>Wed</th>\n",
       "      <th>Thu</th>\n",
       "      <th>Fri</th>\n",
       "    </tr>\n",
       "  </thead>\n",
       "  <tbody>\n",
       "    <tr>\n",
       "      <th>count</th>\n",
       "      <td>403200.000</td>\n",
       "      <td>406514.000</td>\n",
       "      <td>401619.000</td>\n",
       "      <td>411568.000</td>\n",
       "      <td>404983.000</td>\n",
       "    </tr>\n",
       "    <tr>\n",
       "      <th>mean</th>\n",
       "      <td>-0.001</td>\n",
       "      <td>0.002</td>\n",
       "      <td>0.001</td>\n",
       "      <td>-0.000</td>\n",
       "      <td>0.001</td>\n",
       "    </tr>\n",
       "    <tr>\n",
       "      <th>std</th>\n",
       "      <td>0.036</td>\n",
       "      <td>0.032</td>\n",
       "      <td>0.033</td>\n",
       "      <td>0.034</td>\n",
       "      <td>0.032</td>\n",
       "    </tr>\n",
       "    <tr>\n",
       "      <th>min</th>\n",
       "      <td>-0.300</td>\n",
       "      <td>-0.300</td>\n",
       "      <td>-0.300</td>\n",
       "      <td>-0.468</td>\n",
       "      <td>-0.931</td>\n",
       "    </tr>\n",
       "    <tr>\n",
       "      <th>25%</th>\n",
       "      <td>-0.016</td>\n",
       "      <td>-0.012</td>\n",
       "      <td>-0.013</td>\n",
       "      <td>-0.014</td>\n",
       "      <td>-0.013</td>\n",
       "    </tr>\n",
       "    <tr>\n",
       "      <th>50%</th>\n",
       "      <td>-0.001</td>\n",
       "      <td>0.000</td>\n",
       "      <td>0.000</td>\n",
       "      <td>0.000</td>\n",
       "      <td>0.000</td>\n",
       "    </tr>\n",
       "    <tr>\n",
       "      <th>75%</th>\n",
       "      <td>0.012</td>\n",
       "      <td>0.013</td>\n",
       "      <td>0.012</td>\n",
       "      <td>0.011</td>\n",
       "      <td>0.011</td>\n",
       "    </tr>\n",
       "    <tr>\n",
       "      <th>max</th>\n",
       "      <td>0.948</td>\n",
       "      <td>0.304</td>\n",
       "      <td>0.301</td>\n",
       "      <td>0.301</td>\n",
       "      <td>0.305</td>\n",
       "    </tr>\n",
       "  </tbody>\n",
       "</table>\n",
       "</div>"
      ],
      "text/plain": [
       "              Mon         Tue         Wed         Thu         Fri\n",
       "count  403200.000  406514.000  401619.000  411568.000  404983.000\n",
       "mean       -0.001       0.002       0.001      -0.000       0.001\n",
       "std         0.036       0.032       0.033       0.034       0.032\n",
       "min        -0.300      -0.300      -0.300      -0.468      -0.931\n",
       "25%        -0.016      -0.012      -0.013      -0.014      -0.013\n",
       "50%        -0.001       0.000       0.000       0.000       0.000\n",
       "75%         0.012       0.013       0.012       0.011       0.011\n",
       "max         0.948       0.304       0.301       0.301       0.305"
      ]
     },
     "metadata": {},
     "output_type": "display_data"
    }
   ],
   "source": [
    "# 통계량 확인\n",
    "result = pd.DataFrame()\n",
    "for i in range(5):\n",
    "    result = pd.concat([result, pd.Series(change_list[i]).describe()], axis = 1)\n",
    "result.columns = [\"Mon\", \"Tue\", \"Wed\", \"Thu\", \"Fri\"]\n",
    "display(result.round(3))"
   ]
  },
  {
   "cell_type": "markdown",
   "id": "e05989f2",
   "metadata": {},
   "source": [
    "## 월요일에 매수해서 금요일에 매도하는 전략의 수익률 검증"
   ]
  },
  {
   "cell_type": "code",
   "execution_count": 9,
   "id": "0df933d0",
   "metadata": {},
   "outputs": [],
   "source": [
    "# 수익률 목록 계산: 월요일 시가 - 금요일 종가, 월요일 종가 - 금요일 종가\n",
    "ror_list_OC = []\n",
    "ror_list_CC = []\n",
    "for data in data_list:\n",
    "    buy_arr, sell_arr = calendar_effect.week_effect(data, buy_weekday = 0, sell_weekday = 4, date_col = \"Date\")\n",
    "    ror_list_OC += ror_buy_and_sell(data, buy_arr, sell_arr, buy_col = \"Open\", sell_col = \"Close\")\n",
    "    ror_list_CC += ror_buy_and_sell(data, buy_arr, sell_arr, buy_col = \"Close\", sell_col = \"Close\")"
   ]
  },
  {
   "cell_type": "code",
   "execution_count": 10,
   "id": "99c93a42",
   "metadata": {},
   "outputs": [],
   "source": [
    "# 임의의 시점에서 매수해서 4영업일 후에 매도했을 때의 수익률 계산\n",
    "ror_list_random_OC = []\n",
    "ror_list_random_CC = []\n",
    "for data in data_list:\n",
    "    buy_arr = np.zeros(len(data), dtype = bool)\n",
    "    buy_idx = np.random.choice(range(len(data)), int(len(data) / 5))\n",
    "    buy_arr[buy_idx] = True\n",
    "    ror_list_random_OC += ror_buy_and_hold(data, 4, buy_arr, buy_col = \"Open\", sell_col = \"Close\")\n",
    "    ror_list_random_CC += ror_buy_and_hold(data, 4, buy_arr, buy_col = \"Close\", sell_col = \"Close\")"
   ]
  },
  {
   "cell_type": "code",
   "execution_count": 11,
   "id": "73b8cfa0",
   "metadata": {},
   "outputs": [
    {
     "data": {
      "image/png": "[encoded data removed]",
      "text/plain": [
       "<Figure size 432x288 with 1 Axes>"
      ]
     },
     "metadata": {
      "needs_background": "light"
     },
     "output_type": "display_data"
    }
   ],
   "source": [
    "# 박스플롯으로 시각화해서 비교\n",
    "plt.boxplot([ror_list_OC, ror_list_CC, ror_list_random_OC, ror_list_random_CC])\n",
    "plt.xticks(range(1, 5), [\"MF-OC\", \"MF-CC\", \"random-OC\", \"random-CC\"])\n",
    "plt.ylim(-0.1, 0.1)\n",
    "plt.show()"
   ]
  },
  {
   "cell_type": "code",
   "execution_count": 12,
   "id": "2bd01502",
   "metadata": {},
   "outputs": [
    {
     "data": {
      "text/html": [
       "<div>\n",
       "<style scoped>\n",
       "    .dataframe tbody tr th:only-of-type {\n",
       "        vertical-align: middle;\n",
       "    }\n",
       "\n",
       "    .dataframe tbody tr th {\n",
       "        vertical-align: top;\n",
       "    }\n",
       "\n",
       "    .dataframe thead th {\n",
       "        text-align: right;\n",
       "    }\n",
       "</style>\n",
       "<table border=\"1\" class=\"dataframe\">\n",
       "  <thead>\n",
       "    <tr style=\"text-align: right;\">\n",
       "      <th></th>\n",
       "      <th>MF-OC</th>\n",
       "      <th>MF-CC</th>\n",
       "      <th>random-OC</th>\n",
       "      <th>random-CC</th>\n",
       "    </tr>\n",
       "  </thead>\n",
       "  <tbody>\n",
       "    <tr>\n",
       "      <th>count</th>\n",
       "      <td>399904.000</td>\n",
       "      <td>399904.000</td>\n",
       "      <td>365592.000</td>\n",
       "      <td>365592.000</td>\n",
       "    </tr>\n",
       "    <tr>\n",
       "      <th>mean</th>\n",
       "      <td>-0.000</td>\n",
       "      <td>0.002</td>\n",
       "      <td>-0.002</td>\n",
       "      <td>-0.001</td>\n",
       "    </tr>\n",
       "    <tr>\n",
       "      <th>std</th>\n",
       "      <td>0.076</td>\n",
       "      <td>0.069</td>\n",
       "      <td>0.077</td>\n",
       "      <td>0.070</td>\n",
       "    </tr>\n",
       "    <tr>\n",
       "      <th>min</th>\n",
       "      <td>-0.937</td>\n",
       "      <td>-0.937</td>\n",
       "      <td>-0.766</td>\n",
       "      <td>-0.666</td>\n",
       "    </tr>\n",
       "    <tr>\n",
       "      <th>25%</th>\n",
       "      <td>-0.035</td>\n",
       "      <td>-0.029</td>\n",
       "      <td>-0.037</td>\n",
       "      <td>-0.032</td>\n",
       "    </tr>\n",
       "    <tr>\n",
       "      <th>50%</th>\n",
       "      <td>-0.005</td>\n",
       "      <td>-0.003</td>\n",
       "      <td>-0.006</td>\n",
       "      <td>-0.005</td>\n",
       "    </tr>\n",
       "    <tr>\n",
       "      <th>75%</th>\n",
       "      <td>0.026</td>\n",
       "      <td>0.025</td>\n",
       "      <td>0.025</td>\n",
       "      <td>0.023</td>\n",
       "    </tr>\n",
       "    <tr>\n",
       "      <th>max</th>\n",
       "      <td>2.202</td>\n",
       "      <td>2.202</td>\n",
       "      <td>2.503</td>\n",
       "      <td>1.843</td>\n",
       "    </tr>\n",
       "  </tbody>\n",
       "</table>\n",
       "</div>"
      ],
      "text/plain": [
       "            MF-OC       MF-CC   random-OC   random-CC\n",
       "count  399904.000  399904.000  365592.000  365592.000\n",
       "mean       -0.000       0.002      -0.002      -0.001\n",
       "std         0.076       0.069       0.077       0.070\n",
       "min        -0.937      -0.937      -0.766      -0.666\n",
       "25%        -0.035      -0.029      -0.037      -0.032\n",
       "50%        -0.005      -0.003      -0.006      -0.005\n",
       "75%         0.026       0.025       0.025       0.023\n",
       "max         2.202       2.202       2.503       1.843"
      ]
     },
     "metadata": {},
     "output_type": "display_data"
    }
   ],
   "source": [
    "# 통계량 확인\n",
    "result = pd.Series(ror_list_OC).describe()\n",
    "result = pd.concat([result, pd.Series(ror_list_CC).describe()], axis = 1)\n",
    "result = pd.concat([result, pd.Series(ror_list_random_OC).describe()], axis = 1)\n",
    "result = pd.concat([result, pd.Series(ror_list_random_CC).describe()], axis = 1)\n",
    "result.columns = [\"MF-OC\", \"MF-CC\", \"random-OC\", \"random-CC\"]\n",
    "display(result.round(3))"
   ]
  }
 ],
 "metadata": {
  "kernelspec": {
   "display_name": "Python 3",
   "language": "python",
   "name": "python3"
  },
  "language_info": {
   "codemirror_mode": {
    "name": "ipython",
    "version": 3
   },
   "file_extension": ".py",
   "mimetype": "text/x-python",
   "name": "python",
   "nbconvert_exporter": "python",
   "pygments_lexer": "ipython3",
   "version": "3.8.8"
  }
 },
 "nbformat": 4,
 "nbformat_minor": 5
}
