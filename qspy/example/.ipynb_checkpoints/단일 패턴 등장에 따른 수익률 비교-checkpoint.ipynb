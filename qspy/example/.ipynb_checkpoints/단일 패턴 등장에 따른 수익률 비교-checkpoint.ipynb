{
 "cells": [
  {
   "cell_type": "markdown",
   "id": "84e5e243",
   "metadata": {},
   "source": [
    "### 개요\n",
    "- 데이터: 2018년 1월 1일 ~ 2021년 1월 1일의 코스피 데이터\n",
    "- 검증 내용: 단일 패턴이 등장한 다음 날 매수하여 10, 20, 60 영업일 동안 보유했을 때의 수익률 비교\n",
    "- 대상 패턴: 망치형, 역망치형, 잠자리형"
   ]
  },
  {
   "cell_type": "code",
   "execution_count": 1,
   "id": "d36f4021",
   "metadata": {},
   "outputs": [],
   "source": [
    "from qspy import datasets\n",
    "import pandas as pd\n",
    "stock_list = datasets.load_stock_list(market = \"KOSPI\")\n",
    "stock_list = stock_list.loc[stock_list['ListingDate'] < pd.to_datetime(\"2018-01-01\")]"
   ]
  },
  {
   "cell_type": "code",
   "execution_count": 2,
   "id": "76ca2548",
   "metadata": {},
   "outputs": [],
   "source": [
    "data_list = datasets.load_stock_data_list(stock_list[\"Symbol\"],\n",
    "                                          start_date = \"2018-01-01\",\n",
    "                                          end_date = \"2021-01-01\",\n",
    "                                          download = False)"
   ]
  },
  {
   "cell_type": "code",
   "execution_count": 3,
   "id": "35fc5ae4",
   "metadata": {},
   "outputs": [],
   "source": [
    "data_list = [data.loc[data['Low'] != 0].reset_index(drop = True) for data in data_list]"
   ]
  },
  {
   "cell_type": "code",
   "execution_count": 4,
   "id": "1aa845de",
   "metadata": {},
   "outputs": [],
   "source": [
    "from qspy.analysis.candle_pattern import *\n",
    "from qspy.validation import ror_buy_and_hold\n",
    "import numpy as np"
   ]
  },
  {
   "cell_type": "code",
   "execution_count": 5,
   "id": "b88242d7",
   "metadata": {},
   "outputs": [],
   "source": [
    "def calc_ror_buy_and_hold_after_patt(data, pattern_func, period):\n",
    "    patt_arr = pattern_func(data)\n",
    "    buy_arr = np.insert(patt_arr[1:], -1, False)\n",
    "    result = ror_buy_and_hold(data = data, period = period, buy_arr = buy_arr)\n",
    "    return result"
   ]
  },
  {
   "cell_type": "markdown",
   "id": "22a429f3",
   "metadata": {},
   "source": [
    "### n = 10"
   ]
  },
  {
   "cell_type": "code",
   "execution_count": 6,
   "id": "9bbedad5",
   "metadata": {},
   "outputs": [],
   "source": [
    "hammer_ror_list = []\n",
    "inverted_hammer_ror_list = []\n",
    "dragon_fly_doji_ror_list = []"
   ]
  },
  {
   "cell_type": "code",
   "execution_count": 7,
   "id": "495b73b1",
   "metadata": {},
   "outputs": [],
   "source": [
    "period = 10\n",
    "for data in data_list:\n",
    "    hammer_ror_list += calc_ror_buy_and_hold_after_patt(data, hammer, period)\n",
    "    inverted_hammer_ror_list += calc_ror_buy_and_hold_after_patt(data, inverted_hammer, period)\n",
    "    dragon_fly_doji_ror_list += calc_ror_buy_and_hold_after_patt(data, dragon_fly_doji, period)"
   ]
  },
  {
   "cell_type": "code",
   "execution_count": 8,
   "id": "930b775a",
   "metadata": {},
   "outputs": [
    {
     "data": {
      "text/html": [
       "<div>\n",
       "<style scoped>\n",
       "    .dataframe tbody tr th:only-of-type {\n",
       "        vertical-align: middle;\n",
       "    }\n",
       "\n",
       "    .dataframe tbody tr th {\n",
       "        vertical-align: top;\n",
       "    }\n",
       "\n",
       "    .dataframe thead th {\n",
       "        text-align: right;\n",
       "    }\n",
       "</style>\n",
       "<table border=\"1\" class=\"dataframe\">\n",
       "  <thead>\n",
       "    <tr style=\"text-align: right;\">\n",
       "      <th></th>\n",
       "      <th>망치형</th>\n",
       "      <th>역망치형</th>\n",
       "      <th>잠자리형</th>\n",
       "    </tr>\n",
       "  </thead>\n",
       "  <tbody>\n",
       "    <tr>\n",
       "      <th>count</th>\n",
       "      <td>29573.000</td>\n",
       "      <td>50073.000</td>\n",
       "      <td>2629.000</td>\n",
       "    </tr>\n",
       "    <tr>\n",
       "      <th>mean</th>\n",
       "      <td>0.023</td>\n",
       "      <td>0.022</td>\n",
       "      <td>0.003</td>\n",
       "    </tr>\n",
       "    <tr>\n",
       "      <th>std</th>\n",
       "      <td>0.113</td>\n",
       "      <td>0.104</td>\n",
       "      <td>0.109</td>\n",
       "    </tr>\n",
       "    <tr>\n",
       "      <th>min</th>\n",
       "      <td>-0.635</td>\n",
       "      <td>-0.559</td>\n",
       "      <td>-0.525</td>\n",
       "    </tr>\n",
       "    <tr>\n",
       "      <th>25%</th>\n",
       "      <td>-0.025</td>\n",
       "      <td>-0.026</td>\n",
       "      <td>-0.029</td>\n",
       "    </tr>\n",
       "    <tr>\n",
       "      <th>50%</th>\n",
       "      <td>0.006</td>\n",
       "      <td>0.010</td>\n",
       "      <td>-0.006</td>\n",
       "    </tr>\n",
       "    <tr>\n",
       "      <th>75%</th>\n",
       "      <td>0.047</td>\n",
       "      <td>0.055</td>\n",
       "      <td>0.015</td>\n",
       "    </tr>\n",
       "    <tr>\n",
       "      <th>max</th>\n",
       "      <td>2.870</td>\n",
       "      <td>1.954</td>\n",
       "      <td>2.429</td>\n",
       "    </tr>\n",
       "  </tbody>\n",
       "</table>\n",
       "</div>"
      ],
      "text/plain": [
       "             망치형       역망치형      잠자리형\n",
       "count  29573.000  50073.000  2629.000\n",
       "mean       0.023      0.022     0.003\n",
       "std        0.113      0.104     0.109\n",
       "min       -0.635     -0.559    -0.525\n",
       "25%       -0.025     -0.026    -0.029\n",
       "50%        0.006      0.010    -0.006\n",
       "75%        0.047      0.055     0.015\n",
       "max        2.870      1.954     2.429"
      ]
     },
     "metadata": {},
     "output_type": "display_data"
    }
   ],
   "source": [
    "result = pd.concat([pd.Series(hammer_ror_list).describe(),\n",
    "                    pd.Series(inverted_hammer_ror_list).describe(),\n",
    "                    pd.Series(dragon_fly_doji_ror_list).describe()], axis = 1)\n",
    "\n",
    "result.columns = [\"망치형\", \"역망치형\", \"잠자리형\"]\n",
    "display(result.round(3))"
   ]
  },
  {
   "cell_type": "markdown",
   "id": "d40bbcec",
   "metadata": {},
   "source": [
    "### n = 20"
   ]
  },
  {
   "cell_type": "code",
   "execution_count": 9,
   "id": "93790f25",
   "metadata": {},
   "outputs": [],
   "source": [
    "hammer_ror_list = []\n",
    "inverted_hammer_ror_list = []\n",
    "dragon_fly_doji_ror_list = []"
   ]
  },
  {
   "cell_type": "code",
   "execution_count": 10,
   "id": "345f1c00",
   "metadata": {},
   "outputs": [],
   "source": [
    "period = 20\n",
    "for data in data_list:\n",
    "    hammer_ror_list += calc_ror_buy_and_hold_after_patt(data, hammer, period)\n",
    "    inverted_hammer_ror_list += calc_ror_buy_and_hold_after_patt(data, inverted_hammer, period)\n",
    "    dragon_fly_doji_ror_list += calc_ror_buy_and_hold_after_patt(data, dragon_fly_doji, period)"
   ]
  },
  {
   "cell_type": "code",
   "execution_count": 11,
   "id": "64500d13",
   "metadata": {},
   "outputs": [
    {
     "data": {
      "text/html": [
       "<div>\n",
       "<style scoped>\n",
       "    .dataframe tbody tr th:only-of-type {\n",
       "        vertical-align: middle;\n",
       "    }\n",
       "\n",
       "    .dataframe tbody tr th {\n",
       "        vertical-align: top;\n",
       "    }\n",
       "\n",
       "    .dataframe thead th {\n",
       "        text-align: right;\n",
       "    }\n",
       "</style>\n",
       "<table border=\"1\" class=\"dataframe\">\n",
       "  <thead>\n",
       "    <tr style=\"text-align: right;\">\n",
       "      <th></th>\n",
       "      <th>망치형</th>\n",
       "      <th>역망치형</th>\n",
       "      <th>잠자리형</th>\n",
       "    </tr>\n",
       "  </thead>\n",
       "  <tbody>\n",
       "    <tr>\n",
       "      <th>count</th>\n",
       "      <td>29156.000</td>\n",
       "      <td>49659.000</td>\n",
       "      <td>2598.000</td>\n",
       "    </tr>\n",
       "    <tr>\n",
       "      <th>mean</th>\n",
       "      <td>0.027</td>\n",
       "      <td>0.026</td>\n",
       "      <td>-0.001</td>\n",
       "    </tr>\n",
       "    <tr>\n",
       "      <th>std</th>\n",
       "      <td>0.160</td>\n",
       "      <td>0.153</td>\n",
       "      <td>0.139</td>\n",
       "    </tr>\n",
       "    <tr>\n",
       "      <th>min</th>\n",
       "      <td>-0.743</td>\n",
       "      <td>-0.627</td>\n",
       "      <td>-0.630</td>\n",
       "    </tr>\n",
       "    <tr>\n",
       "      <th>25%</th>\n",
       "      <td>-0.043</td>\n",
       "      <td>-0.045</td>\n",
       "      <td>-0.046</td>\n",
       "    </tr>\n",
       "    <tr>\n",
       "      <th>50%</th>\n",
       "      <td>0.004</td>\n",
       "      <td>0.008</td>\n",
       "      <td>-0.008</td>\n",
       "    </tr>\n",
       "    <tr>\n",
       "      <th>75%</th>\n",
       "      <td>0.064</td>\n",
       "      <td>0.074</td>\n",
       "      <td>0.026</td>\n",
       "    </tr>\n",
       "    <tr>\n",
       "      <th>max</th>\n",
       "      <td>3.807</td>\n",
       "      <td>3.926</td>\n",
       "      <td>3.715</td>\n",
       "    </tr>\n",
       "  </tbody>\n",
       "</table>\n",
       "</div>"
      ],
      "text/plain": [
       "             망치형       역망치형      잠자리형\n",
       "count  29156.000  49659.000  2598.000\n",
       "mean       0.027      0.026    -0.001\n",
       "std        0.160      0.153     0.139\n",
       "min       -0.743     -0.627    -0.630\n",
       "25%       -0.043     -0.045    -0.046\n",
       "50%        0.004      0.008    -0.008\n",
       "75%        0.064      0.074     0.026\n",
       "max        3.807      3.926     3.715"
      ]
     },
     "metadata": {},
     "output_type": "display_data"
    }
   ],
   "source": [
    "result = pd.concat([pd.Series(hammer_ror_list).describe(),\n",
    "                    pd.Series(inverted_hammer_ror_list).describe(),\n",
    "                    pd.Series(dragon_fly_doji_ror_list).describe()], axis = 1)\n",
    "\n",
    "result.columns = [\"망치형\", \"역망치형\", \"잠자리형\"]\n",
    "display(result.round(3))"
   ]
  },
  {
   "cell_type": "markdown",
   "id": "8276a716",
   "metadata": {},
   "source": [
    "### n = 60"
   ]
  },
  {
   "cell_type": "code",
   "execution_count": 12,
   "id": "1f4dd217",
   "metadata": {},
   "outputs": [],
   "source": [
    "hammer_ror_list = []\n",
    "inverted_hammer_ror_list = []\n",
    "dragon_fly_doji_ror_list = []"
   ]
  },
  {
   "cell_type": "code",
   "execution_count": 13,
   "id": "2ff5bf30",
   "metadata": {},
   "outputs": [],
   "source": [
    "period = 60\n",
    "for data in data_list:\n",
    "    hammer_ror_list += calc_ror_buy_and_hold_after_patt(data, hammer, period)\n",
    "    inverted_hammer_ror_list += calc_ror_buy_and_hold_after_patt(data, inverted_hammer, period)\n",
    "    dragon_fly_doji_ror_list += calc_ror_buy_and_hold_after_patt(data, dragon_fly_doji, period)"
   ]
  },
  {
   "cell_type": "code",
   "execution_count": 14,
   "id": "4550a075",
   "metadata": {},
   "outputs": [
    {
     "data": {
      "text/html": [
       "<div>\n",
       "<style scoped>\n",
       "    .dataframe tbody tr th:only-of-type {\n",
       "        vertical-align: middle;\n",
       "    }\n",
       "\n",
       "    .dataframe tbody tr th {\n",
       "        vertical-align: top;\n",
       "    }\n",
       "\n",
       "    .dataframe thead th {\n",
       "        text-align: right;\n",
       "    }\n",
       "</style>\n",
       "<table border=\"1\" class=\"dataframe\">\n",
       "  <thead>\n",
       "    <tr style=\"text-align: right;\">\n",
       "      <th></th>\n",
       "      <th>망치형</th>\n",
       "      <th>역망치형</th>\n",
       "      <th>잠자리형</th>\n",
       "    </tr>\n",
       "  </thead>\n",
       "  <tbody>\n",
       "    <tr>\n",
       "      <th>count</th>\n",
       "      <td>27464.000</td>\n",
       "      <td>47373.000</td>\n",
       "      <td>2474.000</td>\n",
       "    </tr>\n",
       "    <tr>\n",
       "      <th>mean</th>\n",
       "      <td>0.024</td>\n",
       "      <td>0.030</td>\n",
       "      <td>-0.012</td>\n",
       "    </tr>\n",
       "    <tr>\n",
       "      <th>std</th>\n",
       "      <td>0.252</td>\n",
       "      <td>0.262</td>\n",
       "      <td>0.195</td>\n",
       "    </tr>\n",
       "    <tr>\n",
       "      <th>min</th>\n",
       "      <td>-0.896</td>\n",
       "      <td>-0.845</td>\n",
       "      <td>-0.814</td>\n",
       "    </tr>\n",
       "    <tr>\n",
       "      <th>25%</th>\n",
       "      <td>-0.100</td>\n",
       "      <td>-0.104</td>\n",
       "      <td>-0.097</td>\n",
       "    </tr>\n",
       "    <tr>\n",
       "      <th>50%</th>\n",
       "      <td>-0.013</td>\n",
       "      <td>-0.009</td>\n",
       "      <td>-0.027</td>\n",
       "    </tr>\n",
       "    <tr>\n",
       "      <th>75%</th>\n",
       "      <td>0.091</td>\n",
       "      <td>0.105</td>\n",
       "      <td>0.033</td>\n",
       "    </tr>\n",
       "    <tr>\n",
       "      <th>max</th>\n",
       "      <td>6.446</td>\n",
       "      <td>5.145</td>\n",
       "      <td>2.728</td>\n",
       "    </tr>\n",
       "  </tbody>\n",
       "</table>\n",
       "</div>"
      ],
      "text/plain": [
       "             망치형       역망치형      잠자리형\n",
       "count  27464.000  47373.000  2474.000\n",
       "mean       0.024      0.030    -0.012\n",
       "std        0.252      0.262     0.195\n",
       "min       -0.896     -0.845    -0.814\n",
       "25%       -0.100     -0.104    -0.097\n",
       "50%       -0.013     -0.009    -0.027\n",
       "75%        0.091      0.105     0.033\n",
       "max        6.446      5.145     2.728"
      ]
     },
     "metadata": {},
     "output_type": "display_data"
    }
   ],
   "source": [
    "result = pd.concat([pd.Series(hammer_ror_list).describe(),\n",
    "                    pd.Series(inverted_hammer_ror_list).describe(),\n",
    "                    pd.Series(dragon_fly_doji_ror_list).describe()], axis = 1)\n",
    "\n",
    "result.columns = [\"망치형\", \"역망치형\", \"잠자리형\"]\n",
    "display(result.round(3))"
   ]
  }
 ],
 "metadata": {
  "kernelspec": {
   "display_name": "Python 3",
   "language": "python",
   "name": "python3"
  },
  "language_info": {
   "codemirror_mode": {
    "name": "ipython",
    "version": 3
   },
   "file_extension": ".py",
   "mimetype": "text/x-python",
   "name": "python",
   "nbconvert_exporter": "python",
   "pygments_lexer": "ipython3",
   "version": "3.8.8"
  }
 },
 "nbformat": 4,
 "nbformat_minor": 5
}
