{
 "cells": [
  {
   "cell_type": "markdown",
   "id": "167da33f",
   "metadata": {},
   "source": [
    "## 개요\n",
    "- 데이터: 2018년 1월 1일 ~ 2021년 1월 1일의 코스피 데이터\n",
    "- 검증 내용: 단일 패턴이 등장한 다음 날 매수하여 10, 20, 60 영업일 동안 보유했을 때의 수익률 비교\n",
    "- 대상 패턴: 망치형, 역망치형, 잠자리형"
   ]
  },
  {
   "cell_type": "markdown",
   "id": "2eed9b2a",
   "metadata": {},
   "source": [
    "## 데이터 준비"
   ]
  },
  {
   "cell_type": "code",
   "execution_count": 1,
   "id": "383c032c",
   "metadata": {},
   "outputs": [
    {
     "ename": "ModuleNotFoundError",
     "evalue": "No module named 'qspy.validation'",
     "output_type": "error",
     "traceback": [
      "\u001b[1;31m---------------------------------------------------------------------------\u001b[0m",
      "\u001b[1;31mModuleNotFoundError\u001b[0m                       Traceback (most recent call last)",
      "\u001b[1;32m<ipython-input-1-739b36aa650f>\u001b[0m in \u001b[0;36m<module>\u001b[1;34m\u001b[0m\n\u001b[0;32m      2\u001b[0m \u001b[1;32mfrom\u001b[0m \u001b[0mqspy\u001b[0m \u001b[1;32mimport\u001b[0m \u001b[0mdatasets\u001b[0m\u001b[1;33m\u001b[0m\u001b[1;33m\u001b[0m\u001b[0m\n\u001b[0;32m      3\u001b[0m \u001b[1;32mfrom\u001b[0m \u001b[0mqspy\u001b[0m\u001b[1;33m.\u001b[0m\u001b[0manalysis\u001b[0m\u001b[1;33m.\u001b[0m\u001b[0mcandle_pattern\u001b[0m \u001b[1;32mimport\u001b[0m \u001b[0mhammer\u001b[0m\u001b[1;33m,\u001b[0m \u001b[0minverted_hammer\u001b[0m\u001b[1;33m,\u001b[0m \u001b[0mdragon_fly_doji\u001b[0m\u001b[1;33m\u001b[0m\u001b[1;33m\u001b[0m\u001b[0m\n\u001b[1;32m----> 4\u001b[1;33m \u001b[1;32mfrom\u001b[0m \u001b[0mqspy\u001b[0m\u001b[1;33m.\u001b[0m\u001b[0mvalidation\u001b[0m \u001b[1;32mimport\u001b[0m \u001b[0mror_buy_and_hold\u001b[0m\u001b[1;33m\u001b[0m\u001b[1;33m\u001b[0m\u001b[0m\n\u001b[0m\u001b[0;32m      5\u001b[0m \u001b[1;32mimport\u001b[0m \u001b[0mpandas\u001b[0m \u001b[1;32mas\u001b[0m \u001b[0mpd\u001b[0m\u001b[1;33m\u001b[0m\u001b[1;33m\u001b[0m\u001b[0m\n\u001b[0;32m      6\u001b[0m \u001b[1;32mimport\u001b[0m \u001b[0mnumpy\u001b[0m \u001b[1;32mas\u001b[0m \u001b[0mnp\u001b[0m\u001b[1;33m\u001b[0m\u001b[1;33m\u001b[0m\u001b[0m\n",
      "\u001b[1;31mModuleNotFoundError\u001b[0m: No module named 'qspy.validation'"
     ]
    }
   ],
   "source": [
    "# 필요 모듈 불러오기\n",
    "from qspy import datasets\n",
    "from qspy.analysis.candle_pattern import hammer, inverted_hammer, dragon_fly_doji\n",
    "from qspy.validation import ror_buy_and_hold\n",
    "import pandas as pd\n",
    "import numpy as np"
   ]
  },
  {
   "cell_type": "code",
   "execution_count": null,
   "id": "d36f4021",
   "metadata": {},
   "outputs": [],
   "source": [
    "# 2018년 1월 1일 이전 코스피에 상장된 모든 종목 정보를 stock_list에 저장\n",
    "stock_list = datasets.load_stock_list(market = \"KOSPI\")\n",
    "stock_list = stock_list.loc[stock_list['ListingDate'] < pd.to_datetime(\"2018-01-01\")]"
   ]
  },
  {
   "cell_type": "code",
   "execution_count": null,
   "id": "76ca2548",
   "metadata": {},
   "outputs": [],
   "source": [
    "# stock_list의 Symbol 컬럼을 기준으로 2018년 1월 1일부터 2021년 1월 1일까지의 데이터 불러오기\n",
    "data_list = datasets.load_stock_data_list(stock_list[\"Symbol\"],\n",
    "                                          start_date = \"2018-01-01\",\n",
    "                                          end_date = \"2021-01-01\",\n",
    "                                          download = False)"
   ]
  },
  {
   "cell_type": "code",
   "execution_count": null,
   "id": "35fc5ae4",
   "metadata": {},
   "outputs": [],
   "source": [
    "# 저가가 0인 문제가 있는 레코드 제거\n",
    "data_list = [data.loc[data['Low'] != 0].reset_index(drop = True) for data in data_list]"
   ]
  },
  {
   "cell_type": "markdown",
   "id": "88ccca92",
   "metadata": {},
   "source": [
    "## 검증"
   ]
  },
  {
   "cell_type": "code",
   "execution_count": null,
   "id": "0e6d35c7",
   "metadata": {},
   "outputs": [],
   "source": [
    "# data에서 패턴이 등장한 다음 날 매수해서 period만큼 보유했을 때의 수익률을 반환하는 함수 작성\n",
    "def calc_ror_buy_and_hold_after_patt(data, pattern_func, period):\n",
    "    patt_arr = pattern_func(data)\n",
    "    buy_arr = np.insert(patt_arr[1:], -1, False)\n",
    "    result = ror_buy_and_hold(data = data, period = period, buy_arr = buy_arr)\n",
    "    return result"
   ]
  },
  {
   "cell_type": "markdown",
   "id": "22a429f3",
   "metadata": {},
   "source": [
    "### period = 10"
   ]
  },
  {
   "cell_type": "code",
   "execution_count": null,
   "id": "9bbedad5",
   "metadata": {},
   "outputs": [],
   "source": [
    "# 각 패턴 등장에 따른 수익률 목록 초기화\n",
    "hammer_ror_list = []\n",
    "inverted_hammer_ror_list = []\n",
    "dragon_fly_doji_ror_list = []"
   ]
  },
  {
   "cell_type": "code",
   "execution_count": null,
   "id": "495b73b1",
   "metadata": {},
   "outputs": [],
   "source": [
    "# data_list를 data로 순회하면서, calc_ror_buy_and_hold_after_patt를 적용한 결과를 수익률 목록에 추가\n",
    "period = 10\n",
    "for data in data_list:\n",
    "    hammer_ror_list += calc_ror_buy_and_hold_after_patt(data, hammer, period)\n",
    "    inverted_hammer_ror_list += calc_ror_buy_and_hold_after_patt(data, inverted_hammer, period)\n",
    "    dragon_fly_doji_ror_list += calc_ror_buy_and_hold_after_patt(data, dragon_fly_doji, period)"
   ]
  },
  {
   "cell_type": "code",
   "execution_count": null,
   "id": "930b775a",
   "metadata": {},
   "outputs": [],
   "source": [
    "# 각 수익률 목록을 시리즈로 변환하여 통계량을 계산한 뒤, 열별로 병합하여 결과 출력\n",
    "result = pd.concat([pd.Series(hammer_ror_list).describe(),\n",
    "                    pd.Series(inverted_hammer_ror_list).describe(),\n",
    "                    pd.Series(dragon_fly_doji_ror_list).describe()], axis = 1)\n",
    "\n",
    "result.columns = [\"망치형\", \"역망치형\", \"잠자리형\"]\n",
    "display(result.round(3))"
   ]
  },
  {
   "cell_type": "markdown",
   "id": "d40bbcec",
   "metadata": {},
   "source": [
    "### n = 20"
   ]
  },
  {
   "cell_type": "code",
   "execution_count": null,
   "id": "93790f25",
   "metadata": {},
   "outputs": [],
   "source": [
    "# 각 패턴 등장에 따른 수익률 목록 초기화\n",
    "hammer_ror_list = []\n",
    "inverted_hammer_ror_list = []\n",
    "dragon_fly_doji_ror_list = []"
   ]
  },
  {
   "cell_type": "code",
   "execution_count": null,
   "id": "345f1c00",
   "metadata": {},
   "outputs": [],
   "source": [
    "# data_list를 data로 순회하면서, calc_ror_buy_and_hold_after_patt를 적용한 결과를 수익률 목록에 추가\n",
    "period = 20\n",
    "for data in data_list:\n",
    "    hammer_ror_list += calc_ror_buy_and_hold_after_patt(data, hammer, period)\n",
    "    inverted_hammer_ror_list += calc_ror_buy_and_hold_after_patt(data, inverted_hammer, period)\n",
    "    dragon_fly_doji_ror_list += calc_ror_buy_and_hold_after_patt(data, dragon_fly_doji, period)"
   ]
  },
  {
   "cell_type": "code",
   "execution_count": null,
   "id": "64500d13",
   "metadata": {},
   "outputs": [],
   "source": [
    "# 각 수익률 목록을 시리즈로 변환하여 통계량을 계산한 뒤, 열별로 병합하여 결과 출력\n",
    "result = pd.concat([pd.Series(hammer_ror_list).describe(),\n",
    "                    pd.Series(inverted_hammer_ror_list).describe(),\n",
    "                    pd.Series(dragon_fly_doji_ror_list).describe()], axis = 1)\n",
    "\n",
    "result.columns = [\"망치형\", \"역망치형\", \"잠자리형\"]\n",
    "display(result.round(3))"
   ]
  },
  {
   "cell_type": "markdown",
   "id": "8276a716",
   "metadata": {},
   "source": [
    "### n = 60"
   ]
  },
  {
   "cell_type": "code",
   "execution_count": null,
   "id": "1f4dd217",
   "metadata": {},
   "outputs": [],
   "source": [
    "# 각 패턴 등장에 따른 수익률 목록 초기화\n",
    "hammer_ror_list = []\n",
    "inverted_hammer_ror_list = []\n",
    "dragon_fly_doji_ror_list = []"
   ]
  },
  {
   "cell_type": "code",
   "execution_count": null,
   "id": "2ff5bf30",
   "metadata": {},
   "outputs": [],
   "source": [
    "# data_list를 data로 순회하면서, calc_ror_buy_and_hold_after_patt를 적용한 결과를 수익률 목록에 추가\n",
    "period = 60\n",
    "for data in data_list:\n",
    "    hammer_ror_list += calc_ror_buy_and_hold_after_patt(data, hammer, period)\n",
    "    inverted_hammer_ror_list += calc_ror_buy_and_hold_after_patt(data, inverted_hammer, period)\n",
    "    dragon_fly_doji_ror_list += calc_ror_buy_and_hold_after_patt(data, dragon_fly_doji, period)"
   ]
  },
  {
   "cell_type": "code",
   "execution_count": null,
   "id": "4550a075",
   "metadata": {},
   "outputs": [],
   "source": [
    "# 각 수익률 목록을 시리즈로 변환하여 통계량을 계산한 뒤, 열별로 병합하여 결과 출력\n",
    "result = pd.concat([pd.Series(hammer_ror_list).describe(),\n",
    "                    pd.Series(inverted_hammer_ror_list).describe(),\n",
    "                    pd.Series(dragon_fly_doji_ror_list).describe()], axis = 1)\n",
    "\n",
    "result.columns = [\"망치형\", \"역망치형\", \"잠자리형\"]\n",
    "display(result.round(3))"
   ]
  }
 ],
 "metadata": {
  "kernelspec": {
   "display_name": "Python 3",
   "language": "python",
   "name": "python3"
  },
  "language_info": {
   "codemirror_mode": {
    "name": "ipython",
    "version": 3
   },
   "file_extension": ".py",
   "mimetype": "text/x-python",
   "name": "python",
   "nbconvert_exporter": "python",
   "pygments_lexer": "ipython3",
   "version": "3.8.8"
  }
 },
 "nbformat": 4,
 "nbformat_minor": 5
}
